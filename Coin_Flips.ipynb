{
 "cells": [
  {
   "cell_type": "code",
   "execution_count": 73,
   "metadata": {
    "collapsed": false
   },
   "outputs": [],
   "source": [
    "import math\n",
    "import random\n",
    "import statistics as st\n",
    "import numpy as np\n",
    "import matplotlib.pyplot as plt\n",
    "import seaborn as sns\n",
    "%matplotlib inline"
   ]
  },
  {
   "cell_type": "code",
   "execution_count": 74,
   "metadata": {
    "collapsed": false
   },
   "outputs": [],
   "source": [
    "def flip_coin():\n",
    "    a = random.choice(['heads','tails'])\n",
    "    if a == 'heads':\n",
    "        return 1\n",
    "    else:\n",
    "        return 0"
   ]
  },
  {
   "cell_type": "code",
   "execution_count": 110,
   "metadata": {
    "collapsed": false
   },
   "outputs": [],
   "source": [
    "def flip_coin_simulation():\n",
    "    #interval = 2 ** n\n",
    "    count_h = 0\n",
    "    count_t = 0\n",
    "    k = 1\n",
    "    heads_list = []\n",
    "    tails_list = []\n",
    "    ratio_list = []\n",
    "\n",
    "    for n in range(0, 17):\n",
    "        while k <= 2 ** n:\n",
    "            t_h = flip_coin()\n",
    "\n",
    "            if t_h == 1:\n",
    "                count_h += 1\n",
    "            else:\n",
    "                count_t += 1\n",
    "            k += 1\n",
    "\n",
    "            try:\n",
    "                ratio = count_h / count_t\n",
    "            except ZeroDivisionError:\n",
    "                ratio = 0\n",
    "\n",
    "        heads_list.append(count_h)\n",
    "        tails_list.append(count_t)\n",
    "        ratio_list.append(round(ratio, 2))\n",
    "        #print('='*20)\n",
    "        #print(\"number of heads = \", count_h)\n",
    "        #print(\"number of tails = \", count_t)\n",
    "\n",
    "    print(\"list of heads: \", heads_list)\n",
    "    print(\"list of tails: \", tails_list)\n",
    "\n",
    "    difference = [heads_list[index] - tails_list[index] for index in range(len(heads_list))]\n",
    "\n",
    "    print(\"The difference is: \", difference)\n",
    "    print(\"list of ratios: \", ratio_list)\n",
    "   \n",
    "    return difference, ratio_list\n",
    "\n",
    "    #heads_list, tails_list = flip_coin_simulation()"
   ]
  },
  {
   "cell_type": "code",
   "execution_count": 111,
   "metadata": {
    "collapsed": false
   },
   "outputs": [
    {
     "name": "stdout",
     "output_type": "stream",
     "text": [
      "list of heads:  [0, 0, 1, 2, 8, 17, 38, 71, 125, 261, 509, 1016, 2002, 4041, 8087, 16209, 32542]\n",
      "list of tails:  [1, 2, 3, 6, 8, 15, 26, 57, 131, 251, 515, 1032, 2094, 4151, 8297, 16559, 32994]\n",
      "The difference is:  [-1, -2, -2, -4, 0, 2, 12, 14, -6, 10, -6, -16, -92, -110, -210, -350, -452]\n",
      "list of ratios:  [0.0, 0.0, 0.33, 0.33, 1.0, 1.13, 1.46, 1.25, 0.95, 1.04, 0.99, 0.98, 0.96, 0.97, 0.97, 0.98, 0.99]\n"
     ]
    },
    {
     "data": {
      "image/png": "[encoded data removed]",
      "text/plain": [
       "<matplotlib.figure.Figure at 0x11802cef0>"
      ]
     },
     "metadata": {},
     "output_type": "display_data"
    }
   ],
   "source": [
    "flip_coin_simulation()\n",
    "x = range(len(heads_list))\n",
    "y = difference\n",
    "\n",
    "plt.plot(y)\n",
    "plt.show()"
   ]
  },
  {
   "cell_type": "code",
   "execution_count": 112,
   "metadata": {
    "collapsed": false
   },
   "outputs": [
    {
     "name": "stdout",
     "output_type": "stream",
     "text": [
      "list of heads:  [0, 1, 1, 2, 6, 14, 33, 64, 128, 246, 494, 994, 2001, 4065, 8174, 16369, 32978]\n",
      "list of tails:  [1, 1, 3, 6, 10, 18, 31, 64, 128, 266, 530, 1054, 2095, 4127, 8210, 16399, 32558]\n",
      "The difference is:  [-1, 0, -2, -4, -4, -4, 2, 0, 0, -20, -36, -60, -94, -62, -36, -30, 420]\n",
      "list of ratios:  [0.0, 1.0, 0.33, 0.33, 0.6, 0.78, 1.06, 1.0, 1.0, 0.92, 0.93, 0.94, 0.96, 0.98, 1.0, 1.0, 1.01]\n"
     ]
    },
    {
     "data": {
      "image/png": "[encoded data removed]",
      "text/plain": [
       "<matplotlib.figure.Figure at 0x117e69978>"
      ]
     },
     "metadata": {},
     "output_type": "display_data"
    }
   ],
   "source": [
    "d, r = flip_coin_simulation()\n",
    "x = range(len(heads_list))\n",
    "plt.plot(r)\n",
    "plt.show()"
   ]
  },
  {
   "cell_type": "code",
   "execution_count": 113,
   "metadata": {
    "collapsed": false
   },
   "outputs": [
    {
     "name": "stdout",
     "output_type": "stream",
     "text": [
      "list of heads:  [1, 2, 2, 4, 9, 18, 31, 56, 110, 235, 494, 1027, 2016, 4080, 8129, 16139, 32428]\n",
      "list of tails:  [0, 0, 2, 4, 7, 14, 33, 72, 146, 277, 530, 1021, 2080, 4112, 8255, 16629, 33108]\n",
      "The difference is:  [1, 2, 0, 0, 2, 4, -2, -16, -36, -42, -36, 6, -64, -32, -126, -490, -680]\n",
      "list of ratios:  [0, 0, 1.0, 1.0, 1.29, 1.29, 0.94, 0.78, 0.75, 0.85, 0.93, 1.01, 0.97, 0.99, 0.98, 0.97, 0.98]\n"
     ]
    },
    {
     "data": {
      "image/png": "[encoded data removed]",
      "text/plain": [
       "<matplotlib.figure.Figure at 0x117809048>"
      ]
     },
     "metadata": {},
     "output_type": "display_data"
    }
   ],
   "source": [
    "d, r = flip_coin_simulation()\n",
    "interval = []\n",
    "for n in range(len(d)):\n",
    "    interval.append(2 ** n)\n",
    "#x = range(len(heads_list))\n",
    "plt.scatter(interval, d)\n",
    "plt.xscale('log', basex = 2)\n",
    "plt.show()"
   ]
  },
  {
   "cell_type": "code",
   "execution_count": 116,
   "metadata": {
    "collapsed": false
   },
   "outputs": [
    {
     "name": "stdout",
     "output_type": "stream",
     "text": [
      "list of heads:  [1, 2, 2, 4, 9, 17, 33, 71, 127, 249, 515, 1010, 2070, 4091, 8147, 16358, 32676]\n",
      "list of tails:  [0, 0, 2, 4, 7, 15, 31, 57, 129, 263, 509, 1038, 2026, 4101, 8237, 16410, 32860]\n",
      "The difference is:  [1, 2, 0, 0, 2, 2, 2, 14, -2, -14, 6, -28, 44, -10, -90, -52, -184]\n",
      "list of ratios:  [0, 0, 1.0, 1.0, 1.29, 1.13, 1.06, 1.25, 0.98, 0.95, 1.01, 0.97, 1.02, 1.0, 0.99, 1.0, 0.99]\n"
     ]
    },
    {
     "data": {
      "image/png": "[encoded data removed]",
      "text/plain": [
       "<matplotlib.figure.Figure at 0x117cf7358>"
      ]
     },
     "metadata": {},
     "output_type": "display_data"
    }
   ],
   "source": [
    "d, r = flip_coin_simulation()\n",
    "interval = []\n",
    "for n in range(len(d)):\n",
    "    interval.append(2 ** n)\n",
    "#x = range(len(heads_list))\n",
    "plt.scatter(interval, r)\n",
    "plt.xscale('log',basex = 2)\n",
    "plt.show()"
   ]
  },
  {
   "cell_type": "code",
   "execution_count": null,
   "metadata": {
    "collapsed": true
   },
   "outputs": [],
   "source": []
  }
 ],
 "metadata": {
  "kernelspec": {
   "display_name": "Python 3",
   "language": "python",
   "name": "python3"
  },
  "language_info": {
   "codemirror_mode": {
    "name": "ipython",
    "version": 3
   },
   "file_extension": ".py",
   "mimetype": "text/x-python",
   "name": "python",
   "nbconvert_exporter": "python",
   "pygments_lexer": "ipython3",
   "version": "3.5.1"
  }
 },
 "nbformat": 4,
 "nbformat_minor": 0
}
