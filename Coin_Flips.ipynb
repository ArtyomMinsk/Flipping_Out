{
 "cells": [
  {
   "cell_type": "code",
   "execution_count": 144,
   "metadata": {
    "collapsed": false
   },
   "outputs": [],
   "source": [
    "import math\n",
    "import random\n",
    "import statistics as st\n",
    "import numpy as np\n",
    "import matplotlib.pyplot as plt\n",
    "import seaborn as sns\n",
    "%matplotlib inline"
   ]
  },
  {
   "cell_type": "markdown",
   "metadata": {},
   "source": [
    "### Function returns 1/0 if choise is heads/tails"
   ]
  },
  {
   "cell_type": "code",
   "execution_count": 145,
   "metadata": {
    "collapsed": false
   },
   "outputs": [],
   "source": [
    "def flip_coin():\n",
    "    a = random.choice(['heads','tails'])\n",
    "    if a == 'heads':\n",
    "        return 1\n",
    "    else:\n",
    "        return 0"
   ]
  },
  {
   "cell_type": "markdown",
   "metadata": {},
   "source": [
    "### Function returns the difference and ratio between heads and tails at each recorded point"
   ]
  },
  {
   "cell_type": "code",
   "execution_count": 146,
   "metadata": {
    "collapsed": false
   },
   "outputs": [],
   "source": [
    "def flip_coin_simulation():\n",
    "    heads_list = []\n",
    "    tails_list = []\n",
    "    ratio_list = []\n",
    "\n",
    "    counter = 1\n",
    "\n",
    "    mean_list = []\n",
    "    big_ratio_list = []\n",
    "\n",
    "    for power in range(0, 17):\n",
    "        times = 1\n",
    "        count_h = 0\n",
    "        count_t = 0\n",
    "\n",
    "        while times <= 2 ** power:\n",
    "            t_h = flip_coin()\n",
    "\n",
    "            if t_h == 1:\n",
    "                count_h += 1\n",
    "            else:\n",
    "                count_t += 1\n",
    "\n",
    "            try:\n",
    "                ratio = count_h / count_t\n",
    "            except ZeroDivisionError:\n",
    "                ratio = 0\n",
    "            times += 1\n",
    "        heads_list.append(count_h)\n",
    "        tails_list.append(count_t)\n",
    "        ratio_list.append(round(ratio, 2))\n",
    "    difference = [heads_list[index] - tails_list[index] for index in range(len(heads_list))]\n",
    "    print(\"list of heads: \", heads_list)\n",
    "    print(\"list of tails: \", tails_list)\n",
    "    print(\"The difference is: \", difference)\n",
    "    print(\"ratio_list: \", ratio_list)\n",
    "   \n",
    "    return difference, ratio_list"
   ]
  },
  {
   "cell_type": "markdown",
   "metadata": {},
   "source": [
    "### Plot of the difference between heads and tails at each recorded point"
   ]
  },
  {
   "cell_type": "code",
   "execution_count": 147,
   "metadata": {
    "collapsed": false
   },
   "outputs": [
    {
     "name": "stdout",
     "output_type": "stream",
     "text": [
      "list of heads:  [1, 1, 2, 4, 10, 16, 29, 71, 127, 265, 523, 990, 2053, 4061, 8064, 16386, 32938]\n",
      "list of tails:  [0, 1, 2, 4, 6, 16, 35, 57, 129, 247, 501, 1058, 2043, 4131, 8320, 16382, 32598]\n",
      "The difference is:  [1, 0, 0, 0, 4, 0, -6, 14, -2, 18, 22, -68, 10, -70, -256, 4, 340]\n",
      "ratio_list:  [0, 1.0, 1.0, 1.0, 1.67, 1.0, 0.83, 1.25, 0.98, 1.07, 1.04, 0.94, 1.0, 0.98, 0.97, 1.0, 1.01]\n"
     ]
    },
    {
     "data": {
      "image/png": "[encoded data removed]",
      "text/plain": [
       "<matplotlib.figure.Figure at 0x1179dc780>"
      ]
     },
     "metadata": {},
     "output_type": "display_data"
    }
   ],
   "source": [
    "d, r = flip_coin_simulation()\n",
    "x = range(len(heads_list))\n",
    "#y = difference\n",
    "\n",
    "plt.plot(d)\n",
    "plt.show()"
   ]
  },
  {
   "cell_type": "markdown",
   "metadata": {},
   "source": [
    "### Plot of the ratio of heads and tails at each recorded point"
   ]
  },
  {
   "cell_type": "code",
   "execution_count": 148,
   "metadata": {
    "collapsed": false
   },
   "outputs": [
    {
     "name": "stdout",
     "output_type": "stream",
     "text": [
      "list of heads:  [0, 1, 4, 3, 11, 20, 35, 70, 131, 235, 509, 1050, 1989, 4125, 8178, 16329, 32775]\n",
      "list of tails:  [1, 1, 0, 5, 5, 12, 29, 58, 125, 277, 515, 998, 2107, 4067, 8206, 16439, 32761]\n",
      "The difference is:  [-1, 0, 4, -2, 6, 8, 6, 12, 6, -42, -6, 52, -118, 58, -28, -110, 14]\n",
      "ratio_list:  [0.0, 1.0, 0, 0.6, 2.2, 1.67, 1.21, 1.21, 1.05, 0.85, 0.99, 1.05, 0.94, 1.01, 1.0, 0.99, 1.0]\n"
     ]
    },
    {
     "data": {
      "image/png": "[encoded data removed]",
      "text/plain": [
       "<matplotlib.figure.Figure at 0x117e96160>"
      ]
     },
     "metadata": {},
     "output_type": "display_data"
    }
   ],
   "source": [
    "d, r = flip_coin_simulation()\n",
    "x = range(len(heads_list))\n",
    "plt.plot(r)\n",
    "plt.show()"
   ]
  },
  {
   "cell_type": "markdown",
   "metadata": {},
   "source": [
    "### Plot of the difference between heads and tails at each recorded point with a logarithmic scale for the x-axis"
   ]
  },
  {
   "cell_type": "code",
   "execution_count": 149,
   "metadata": {
    "collapsed": false
   },
   "outputs": [
    {
     "name": "stdout",
     "output_type": "stream",
     "text": [
      "list of heads:  [1, 1, 1, 5, 6, 20, 38, 65, 154, 266, 497, 1010, 2071, 3996, 8217, 16311, 32730]\n",
      "list of tails:  [0, 1, 3, 3, 10, 12, 26, 63, 102, 246, 527, 1038, 2025, 4196, 8167, 16457, 32806]\n",
      "The difference is:  [1, 0, -2, 2, -4, 8, 12, 2, 52, 20, -30, -28, 46, -200, 50, -146, -76]\n",
      "ratio_list:  [0, 1.0, 0.33, 1.67, 0.6, 1.67, 1.46, 1.03, 1.51, 1.08, 0.94, 0.97, 1.02, 0.95, 1.01, 0.99, 1.0]\n"
     ]
    },
    {
     "data": {
      "image/png": "[encoded data removed]",
      "text/plain": [
       "<matplotlib.figure.Figure at 0x117ff0588>"
      ]
     },
     "metadata": {},
     "output_type": "display_data"
    }
   ],
   "source": [
    "d, r = flip_coin_simulation()\n",
    "interval = []\n",
    "for n in range(len(d)):\n",
    "    interval.append(2 ** n)\n",
    "plt.scatter(interval, d)\n",
    "plt.xscale('log', basex = 2)\n",
    "plt.show()"
   ]
  },
  {
   "cell_type": "markdown",
   "metadata": {},
   "source": [
    "### Plot of the ratio of heads and tails at each recorded point with a logarithmic scale for the x-axis"
   ]
  },
  {
   "cell_type": "code",
   "execution_count": 150,
   "metadata": {
    "collapsed": false
   },
   "outputs": [
    {
     "name": "stdout",
     "output_type": "stream",
     "text": [
      "list of heads:  [1, 1, 1, 3, 7, 18, 32, 67, 128, 251, 521, 1009, 2082, 4057, 8124, 16296, 32725]\n",
      "list of tails:  [0, 1, 3, 5, 9, 14, 32, 61, 128, 261, 503, 1039, 2014, 4135, 8260, 16472, 32811]\n",
      "The difference is:  [1, 0, -2, -2, -2, 4, 0, 6, 0, -10, 18, -30, 68, -78, -136, -176, -86]\n",
      "ratio_list:  [0, 1.0, 0.33, 0.6, 0.78, 1.29, 1.0, 1.1, 1.0, 0.96, 1.04, 0.97, 1.03, 0.98, 0.98, 0.99, 1.0]\n"
     ]
    },
    {
     "data": {
      "image/png": "[encoded data removed]",
      "text/plain": [
       "<matplotlib.figure.Figure at 0x117b97e48>"
      ]
     },
     "metadata": {},
     "output_type": "display_data"
    }
   ],
   "source": [
    "d, r = flip_coin_simulation()\n",
    "interval = []\n",
    "for n in range(len(d)):\n",
    "    interval.append(2 ** n)\n",
    "plt.scatter(interval, r)\n",
    "plt.xscale('log',basex = 2)\n",
    "plt.show()"
   ]
  },
  {
   "cell_type": "markdown",
   "metadata": {},
   "source": [
    "### The mean heads/tails ratio at each recorded point"
   ]
  },
  {
   "cell_type": "code",
   "execution_count": 151,
   "metadata": {
    "collapsed": false
   },
   "outputs": [
    {
     "name": "stdout",
     "output_type": "stream",
     "text": [
      "my_mean:  [0.0, 0.0, 0.11, 0.23, 0.63, 0.65, 0.73, 0.73, 0.77, 0.79, 0.81, 0.83, 0.84, 0.85, 0.86, 0.87, 0.88, 0.83, 0.84, 0.85, 0.82, 0.8, 0.8, 0.83, 0.83, 0.86, 0.87, 0.88, 0.89, 0.89, 0.89, 0.9, 0.9, 0.9, 0.88, 0.85, 0.91, 0.93, 0.92, 0.91, 0.92, 0.92, 0.92, 0.93, 0.93, 0.93, 0.94, 0.94, 0.94, 0.94, 0.94, 0.92, 0.92, 0.91, 0.91, 0.91, 0.91, 0.91, 0.92, 0.92, 0.92, 0.92, 0.92, 0.92, 0.93, 0.93, 0.93, 0.93, 0.92, 0.92, 0.92, 0.95, 0.94, 0.95, 0.95, 0.95, 0.95, 0.95, 0.95, 0.95, 0.95, 0.95, 0.95, 0.96, 0.96, 0.94, 0.93, 0.93, 0.93, 0.93, 0.93, 0.94, 0.94, 0.94, 0.94, 0.94, 0.94, 0.94, 0.95, 0.95, 0.95, 0.95, 0.94, 0.94, 0.94, 0.95, 0.95, 0.95, 0.96, 0.96, 0.96, 0.96, 0.96, 0.96, 0.96, 0.96, 0.96, 0.96, 0.96, 0.95, 0.95, 0.97, 0.97, 0.96, 0.96, 0.96, 0.96, 0.96, 0.96, 0.96, 0.97, 0.97, 0.97, 0.97, 0.97, 0.97, 0.96, 0.95, 0.97, 0.96, 0.96, 0.96, 0.96, 0.96, 0.96, 0.96, 0.96, 0.96, 0.96, 0.96, 0.96, 0.96, 0.96, 0.96, 0.95, 0.95, 0.95, 0.95, 0.95, 0.95, 0.95, 0.95, 0.95, 0.95, 0.95, 0.95, 0.95, 0.95, 0.96, 0.96, 0.95, 0.95, 0.96, 0.96, 0.96, 0.96, 0.96, 0.96, 0.96, 0.96, 0.96, 0.96, 0.96, 0.96, 0.96, 0.96, 0.96, 0.96, 0.96, 0.95, 0.96, 0.96, 0.96, 0.96, 0.96, 0.96, 0.96, 0.96, 0.96, 0.96, 0.96, 0.96, 0.96, 0.96, 0.96, 0.95, 0.95, 0.95, 0.94, 0.94, 0.94, 0.94, 0.94, 0.94, 0.94, 0.94, 0.95, 0.95, 0.95, 0.95, 0.95, 0.94, 0.94, 0.94, 0.97, 0.96, 0.96, 0.97, 0.97, 0.97, 0.97, 0.97, 0.97, 0.97, 0.97, 0.97, 0.97, 0.97, 0.97, 0.96, 0.96, 0.97, 0.97, 0.97, 0.97, 0.97, 0.97, 0.97, 0.97, 0.97, 0.97, 0.97, 0.97, 0.97, 0.97, 0.96, 0.96, 0.96, 0.97, 0.97, 0.97, 0.97, 0.97, 0.97, 0.97, 0.97, 0.97, 0.97, 0.97, 0.97, 0.97, 0.97, 0.96, 0.96, 0.96, 0.96, 0.96, 0.96, 0.96, 0.96, 0.96, 0.96, 0.96, 0.96, 0.96, 0.96, 0.96, 0.96, 0.96, 0.96, 0.96, 0.96, 0.96, 0.96, 0.96, 0.96, 0.96, 0.96, 0.96, 0.96, 0.96, 0.96, 0.96, 0.96, 0.96, 0.96, 0.95, 0.95, 0.95, 0.95, 0.95, 0.95, 0.95, 0.95, 0.95, 0.95, 0.95, 0.95, 0.95, 0.95, 0.95, 0.95, 0.95, 0.95, 0.95, 0.94, 0.95, 0.95, 0.95, 0.95, 0.95, 0.95, 0.95, 0.95, 0.95, 0.95, 0.95, 0.95, 0.95, 0.95]\n"
     ]
    },
    {
     "data": {
      "image/png": "[encoded data removed]",
      "text/plain": [
       "<matplotlib.figure.Figure at 0x118101240>"
      ]
     },
     "metadata": {},
     "output_type": "display_data"
    }
   ],
   "source": [
    "#     heads_list = []\n",
    "#     tails_list = []\n",
    "ratio_list = []\n",
    "\n",
    "counter = 1\n",
    "\n",
    "mean_list = []\n",
    "mean_list_of_lists = []\n",
    "\n",
    "while counter <= 20:\n",
    "\n",
    "    for power in range(0, 17):\n",
    "        times = 1\n",
    "        count_h = 0\n",
    "        count_t = 0\n",
    "\n",
    "        while times <= 2 ** power:\n",
    "            t_h = flip_coin()\n",
    "\n",
    "            if t_h == 1:\n",
    "                count_h += 1\n",
    "            else:\n",
    "                count_t += 1\n",
    "\n",
    "            try:\n",
    "                ratio = count_h / count_t\n",
    "            except ZeroDivisionError:\n",
    "                ratio = 0\n",
    "            times += 1\n",
    "#             heads_list.append(count_h)\n",
    "#             tails_list.append(count_t)\n",
    "        ratio_list.append(round(ratio, 2))\n",
    "        my_mean = st.mean(ratio_list)\n",
    "        mean_list.append(round(my_mean, 2))\n",
    "    counter += 1\n",
    "    mean_list_of_lists.append(mean_list)\n",
    "short_list = [round(sum(column)/20, 2) for column in zip(*mean_list_of_lists)]\n",
    "\n",
    "print(\"my_mean: \", short_list)\n",
    "    \n",
    "interval = []\n",
    "for n in range(len(short_list)):\n",
    "    interval.append(2 ** n)\n",
    "plt.scatter(interval, short_list)\n",
    "plt.xscale('log',basex = 2)\n",
    "plt.show()"
   ]
  },
  {
   "cell_type": "code",
   "execution_count": null,
   "metadata": {
    "collapsed": true
   },
   "outputs": [],
   "source": []
  }
 ],
 "metadata": {
  "kernelspec": {
   "display_name": "Python 3",
   "language": "python",
   "name": "python3"
  },
  "language_info": {
   "codemirror_mode": {
    "name": "ipython",
    "version": 3
   },
   "file_extension": ".py",
   "mimetype": "text/x-python",
   "name": "python",
   "nbconvert_exporter": "python",
   "pygments_lexer": "ipython3",
   "version": "3.5.1"
  }
 },
 "nbformat": 4,
 "nbformat_minor": 0
}
