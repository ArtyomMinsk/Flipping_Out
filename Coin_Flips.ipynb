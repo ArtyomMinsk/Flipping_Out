{
 "cells": [
  {
   "cell_type": "code",
   "execution_count": 127,
   "metadata": {
    "collapsed": false
   },
   "outputs": [],
   "source": [
    "import math\n",
    "import random\n",
    "import statistics as st\n",
    "import numpy as np\n",
    "import matplotlib.pyplot as plt\n",
    "import seaborn as sns\n",
    "%matplotlib inline"
   ]
  },
  {
   "cell_type": "markdown",
   "metadata": {},
   "source": [
    "### Function returns 1/0 if choise is heads/tails"
   ]
  },
  {
   "cell_type": "code",
   "execution_count": 128,
   "metadata": {
    "collapsed": false
   },
   "outputs": [],
   "source": [
    "def flip_coin():\n",
    "    a = random.choice(['heads','tails'])\n",
    "    if a == 'heads':\n",
    "        return 1\n",
    "    else:\n",
    "        return 0"
   ]
  },
  {
   "cell_type": "markdown",
   "metadata": {},
   "source": [
    "### Function returns the difference and ratio between heads and tails at each recorded point"
   ]
  },
  {
   "cell_type": "code",
   "execution_count": 130,
   "metadata": {
    "collapsed": false
   },
   "outputs": [],
   "source": [
    "def flip_coin_simulation():\n",
    "    heads_list = []\n",
    "    tails_list = []\n",
    "    ratio_list = []\n",
    "\n",
    "    counter = 1\n",
    "\n",
    "    mean_list = []\n",
    "    big_ratio_list = []\n",
    "\n",
    "    for power in range(0, 17):\n",
    "        times = 1\n",
    "        count_h = 0\n",
    "        count_t = 0\n",
    "\n",
    "        while times <= 2 ** power:\n",
    "            t_h = flip_coin()\n",
    "\n",
    "            if t_h == 1:\n",
    "                count_h += 1\n",
    "            else:\n",
    "                count_t += 1\n",
    "\n",
    "            try:\n",
    "                ratio = count_h / count_t\n",
    "            except ZeroDivisionError:\n",
    "                ratio = 0\n",
    "            times += 1\n",
    "        heads_list.append(count_h)\n",
    "        tails_list.append(count_t)\n",
    "        ratio_list.append(round(ratio, 2))\n",
    "    difference = [heads_list[index] - tails_list[index] for index in range(len(heads_list))]\n",
    "    print(\"list of heads: \", heads_list)\n",
    "    print(\"list of tails: \", tails_list)\n",
    "    print(\"The difference is: \", difference)\n",
    "    print(\"ratio_list: \", ratio_list)\n",
    "   \n",
    "    return difference, ratio_list"
   ]
  },
  {
   "cell_type": "markdown",
   "metadata": {},
   "source": [
    "### Plot of the difference between heads and tails at each recorded point"
   ]
  },
  {
   "cell_type": "code",
   "execution_count": 131,
   "metadata": {
    "collapsed": false
   },
   "outputs": [
    {
     "name": "stdout",
     "output_type": "stream",
     "text": [
      "list of heads:  [0, 0, 1, 5, 11, 14, 30, 64, 121, 246, 487, 1052, 2082, 4067, 8252, 16433, 32773]\n",
      "list of tails:  [1, 2, 3, 3, 5, 18, 34, 64, 135, 266, 537, 996, 2014, 4125, 8132, 16335, 32763]\n",
      "The difference is:  [-1, -2, -2, 2, 6, -4, -4, 0, -14, -20, -50, 56, 68, -58, 120, 98, 10]\n",
      "ratio_list:  [0.0, 0.0, 0.33, 1.67, 2.2, 0.78, 0.88, 1.0, 0.9, 0.92, 0.91, 1.06, 1.03, 0.99, 1.01, 1.01, 1.0]\n"
     ]
    },
    {
     "data": {
      "image/png": "[encoded data removed]",
      "text/plain": [
       "<matplotlib.figure.Figure at 0x117ff9908>"
      ]
     },
     "metadata": {},
     "output_type": "display_data"
    }
   ],
   "source": [
    "d, r = flip_coin_simulation()\n",
    "x = range(len(heads_list))\n",
    "#y = difference\n",
    "\n",
    "plt.plot(d)\n",
    "plt.show()"
   ]
  },
  {
   "cell_type": "markdown",
   "metadata": {},
   "source": [
    "### Plot of the ratio of heads and tails at each recorded point"
   ]
  },
  {
   "cell_type": "code",
   "execution_count": 132,
   "metadata": {
    "collapsed": false
   },
   "outputs": [
    {
     "name": "stdout",
     "output_type": "stream",
     "text": [
      "list of heads:  [1, 2, 2, 5, 9, 15, 35, 68, 123, 255, 509, 1021, 2072, 4096, 8214, 16415, 32588]\n",
      "list of tails:  [0, 0, 2, 3, 7, 17, 29, 60, 133, 257, 515, 1027, 2024, 4096, 8170, 16353, 32948]\n",
      "The difference is:  [1, 2, 0, 2, 2, -2, 6, 8, -10, -2, -6, -6, 48, 0, 44, 62, -360]\n",
      "ratio_list:  [0, 0, 1.0, 1.67, 1.29, 0.88, 1.21, 1.13, 0.92, 0.99, 0.99, 0.99, 1.02, 1.0, 1.01, 1.0, 0.99]\n"
     ]
    },
    {
     "data": {
      "image/png": "[encoded data removed]",
      "text/plain": [
       "<matplotlib.figure.Figure at 0x117b45e48>"
      ]
     },
     "metadata": {},
     "output_type": "display_data"
    }
   ],
   "source": [
    "d, r = flip_coin_simulation()\n",
    "x = range(len(heads_list))\n",
    "plt.plot(r)\n",
    "plt.show()"
   ]
  },
  {
   "cell_type": "markdown",
   "metadata": {},
   "source": [
    "### Plot of the difference between heads and tails at each recorded point with a logarithmic scale for the x-axis"
   ]
  },
  {
   "cell_type": "code",
   "execution_count": 133,
   "metadata": {
    "collapsed": false
   },
   "outputs": [
    {
     "name": "stdout",
     "output_type": "stream",
     "text": [
      "list of heads:  [1, 1, 2, 5, 7, 11, 32, 61, 121, 255, 536, 1003, 2058, 4028, 8186, 16416, 32739]\n",
      "list of tails:  [0, 1, 2, 3, 9, 21, 32, 67, 135, 257, 488, 1045, 2038, 4164, 8198, 16352, 32797]\n",
      "The difference is:  [1, 0, 0, 2, -2, -10, 0, -6, -14, -2, 48, -42, 20, -136, -12, 64, -58]\n",
      "ratio_list:  [0, 1.0, 1.0, 1.67, 0.78, 0.52, 1.0, 0.91, 0.9, 0.99, 1.1, 0.96, 1.01, 0.97, 1.0, 1.0, 1.0]\n"
     ]
    },
    {
     "data": {
      "image/png": "[encoded data removed]",
      "text/plain": [
       "<matplotlib.figure.Figure at 0x117f80da0>"
      ]
     },
     "metadata": {},
     "output_type": "display_data"
    }
   ],
   "source": [
    "d, r = flip_coin_simulation()\n",
    "interval = []\n",
    "for n in range(len(d)):\n",
    "    interval.append(2 ** n)\n",
    "plt.scatter(interval, d)\n",
    "plt.xscale('log', basex = 2)\n",
    "plt.show()"
   ]
  },
  {
   "cell_type": "markdown",
   "metadata": {},
   "source": [
    "### Plot of the ratio of heads and tails at each recorded point with a logarithmic scale for the x-axis"
   ]
  },
  {
   "cell_type": "code",
   "execution_count": 134,
   "metadata": {
    "collapsed": false
   },
   "outputs": [
    {
     "name": "stdout",
     "output_type": "stream",
     "text": [
      "list of heads:  [0, 1, 3, 4, 10, 20, 38, 62, 122, 238, 530, 1002, 2083, 4141, 8167, 16298, 32667]\n",
      "list of tails:  [1, 1, 1, 4, 6, 12, 26, 66, 134, 274, 494, 1046, 2013, 4051, 8217, 16470, 32869]\n",
      "The difference is:  [-1, 0, 2, 0, 4, 8, 12, -4, -12, -36, 36, -44, 70, 90, -50, -172, -202]\n",
      "ratio_list:  [0.0, 1.0, 3.0, 1.0, 1.67, 1.67, 1.46, 0.94, 0.91, 0.87, 1.07, 0.96, 1.03, 1.02, 0.99, 0.99, 0.99]\n"
     ]
    },
    {
     "data": {
      "image/png": "[encoded data removed]",
      "text/plain": [
       "<matplotlib.figure.Figure at 0x117ced4e0>"
      ]
     },
     "metadata": {},
     "output_type": "display_data"
    }
   ],
   "source": [
    "d, r = flip_coin_simulation()\n",
    "interval = []\n",
    "for n in range(len(d)):\n",
    "    interval.append(2 ** n)\n",
    "plt.scatter(interval, r)\n",
    "plt.xscale('log',basex = 2)\n",
    "plt.show()"
   ]
  },
  {
   "cell_type": "code",
   "execution_count": 143,
   "metadata": {
    "collapsed": false
   },
   "outputs": [
    {
     "name": "stdout",
     "output_type": "stream",
     "text": [
      "my_mean:  [0.0, 0.0, 0.11, 0.33, 0.47, 0.56, 0.7, 0.74, 0.76, 0.77, 0.78, 0.79, 0.81, 0.82, 0.83, 0.84, 0.85, 0.81, 0.76, 0.74, 0.75, 0.75, 0.77, 0.77, 0.77, 0.77, 0.79, 0.79, 0.8, 0.8, 0.81, 0.82, 0.82, 0.83, 0.81, 0.81, 0.82, 0.81, 0.82, 0.84, 0.84, 0.84, 0.84, 0.85, 0.85, 0.85, 0.86, 0.86, 0.86, 0.86, 0.87, 0.85, 0.83, 0.82, 0.83, 0.82, 0.83, 0.83, 0.84, 0.84, 0.84, 0.84, 0.84, 0.85, 0.85, 0.85, 0.85, 0.86, 0.84, 0.83, 0.86, 0.85, 0.87, 0.87, 0.88, 0.88, 0.88, 0.88, 0.88, 0.88, 0.88, 0.88, 0.88, 0.89, 0.89, 0.88, 0.87, 0.87, 0.87, 0.87, 0.87, 0.87, 0.88, 0.88, 0.88, 0.88, 0.89, 0.89, 0.89, 0.89, 0.89, 0.89, 0.88, 0.87, 0.87, 0.88, 0.88, 0.88, 0.88, 0.88, 0.88, 0.88, 0.88, 0.88, 0.88, 0.88, 0.88, 0.89, 0.89, 0.88, 0.88, 0.9, 0.89, 0.89, 0.89, 0.89, 0.89, 0.89, 0.89, 0.89, 0.9, 0.9, 0.9, 0.9, 0.9, 0.9, 0.89, 0.89, 0.91, 0.91, 0.9, 0.91, 0.91, 0.91, 0.91, 0.91, 0.91, 0.91, 0.91, 0.92, 0.92, 0.92, 0.92, 0.91, 0.9, 0.91, 0.91, 0.91, 0.91, 0.91, 0.91, 0.91, 0.91, 0.91, 0.91, 0.91, 0.91, 0.91, 0.91, 0.91, 0.91, 0.91, 0.91, 0.91, 0.91, 0.91, 0.91, 0.91, 0.91, 0.91, 0.91, 0.91, 0.91, 0.91, 0.91, 0.91, 0.91, 0.91, 0.91, 0.91, 0.9, 0.91, 0.91, 0.91, 0.91, 0.91, 0.91, 0.91, 0.91, 0.91, 0.91, 0.91, 0.92, 0.92, 0.91, 0.91, 0.91, 0.91, 0.91, 0.91, 0.92, 0.92, 0.92, 0.92, 0.92, 0.92, 0.92, 0.92, 0.92, 0.92, 0.92, 0.91, 0.91, 0.92, 0.92, 0.93, 0.93, 0.93, 0.93, 0.93, 0.93, 0.93, 0.93, 0.93, 0.93, 0.93, 0.93, 0.93, 0.93, 0.93, 0.93, 0.92, 0.92, 0.92, 0.92, 0.92, 0.92, 0.92, 0.92, 0.92, 0.92, 0.92, 0.92, 0.92, 0.92, 0.92, 0.92, 0.91, 0.92, 0.92, 0.92, 0.92, 0.92, 0.92, 0.92, 0.92, 0.92, 0.92, 0.92, 0.92, 0.92, 0.92, 0.92, 0.92, 0.93, 0.93, 0.93, 0.93, 0.93, 0.93, 0.93, 0.93, 0.93, 0.93, 0.93, 0.93, 0.93, 0.93, 0.93, 0.93, 0.92, 0.93, 0.93, 0.93, 0.93, 0.93, 0.93, 0.93, 0.93, 0.93, 0.93, 0.93, 0.93, 0.93, 0.93, 0.93, 0.93, 0.93, 0.93, 0.95, 0.95, 0.95, 0.95, 0.95, 0.95, 0.96, 0.96, 0.96, 0.96, 0.96, 0.96, 0.96, 0.96, 0.95, 0.95, 0.95, 0.96, 0.96, 0.96, 0.96, 0.96, 0.96, 0.96, 0.96, 0.96, 0.96, 0.96, 0.96, 0.96, 0.96]\n"
     ]
    },
    {
     "data": {
      "image/png": "[encoded data removed]",
      "text/plain": [
       "<matplotlib.figure.Figure at 0x1182b0c18>"
      ]
     },
     "metadata": {},
     "output_type": "display_data"
    }
   ],
   "source": [
    "#     heads_list = []\n",
    "#     tails_list = []\n",
    "ratio_list = []\n",
    "\n",
    "counter = 1\n",
    "\n",
    "mean_list = []\n",
    "mean_list_of_lists = []\n",
    "\n",
    "while counter <= 20:\n",
    "\n",
    "    for power in range(0, 17):\n",
    "        times = 1\n",
    "        count_h = 0\n",
    "        count_t = 0\n",
    "\n",
    "        while times <= 2 ** power:\n",
    "            t_h = flip_coin()\n",
    "\n",
    "            if t_h == 1:\n",
    "                count_h += 1\n",
    "            else:\n",
    "                count_t += 1\n",
    "\n",
    "            try:\n",
    "                ratio = count_h / count_t\n",
    "            except ZeroDivisionError:\n",
    "                ratio = 0\n",
    "            times += 1\n",
    "#             heads_list.append(count_h)\n",
    "#             tails_list.append(count_t)\n",
    "        ratio_list.append(round(ratio, 2))\n",
    "        my_mean = st.mean(ratio_list)\n",
    "        mean_list.append(round(my_mean, 2))\n",
    "    counter += 1\n",
    "    mean_list_of_lists.append(mean_list)\n",
    "short_list = [round(sum(column)/20, 2) for column in zip(*mean_list_of_lists)]\n",
    "\n",
    "print(\"my_mean: \", short_list)\n",
    "    \n",
    "interval = []\n",
    "for n in range(len(short_list)):\n",
    "    interval.append(2 ** n)\n",
    "plt.scatter(interval, short_list)\n",
    "plt.xscale('log',basex = 2)\n",
    "plt.show()"
   ]
  },
  {
   "cell_type": "code",
   "execution_count": null,
   "metadata": {
    "collapsed": true
   },
   "outputs": [],
   "source": []
  }
 ],
 "metadata": {
  "kernelspec": {
   "display_name": "Python 3",
   "language": "python",
   "name": "python3"
  },
  "language_info": {
   "codemirror_mode": {
    "name": "ipython",
    "version": 3
   },
   "file_extension": ".py",
   "mimetype": "text/x-python",
   "name": "python",
   "nbconvert_exporter": "python",
   "pygments_lexer": "ipython3",
   "version": "3.5.1"
  }
 },
 "nbformat": 4,
 "nbformat_minor": 0
}
